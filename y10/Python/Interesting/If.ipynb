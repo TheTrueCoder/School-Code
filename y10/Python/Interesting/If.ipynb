{
 "metadata": {
  "language_info": {
   "codemirror_mode": {
    "name": "ipython",
    "version": 3
   },
   "file_extension": ".py",
   "mimetype": "text/x-python",
   "name": "python",
   "nbconvert_exporter": "python",
   "pygments_lexer": "ipython3",
   "version": "3.7.4-final"
  },
  "orig_nbformat": 2,
  "kernelspec": {
   "name": "Python 3.7.4 64-bit",
   "display_name": "Python 3.7.4 64-bit",
   "metadata": {
    "interpreter": {
     "hash": "0600588c3b5f4418cbe7b5ebc6825b479f3bc010269d8b60d75058cdd010adfe"
    }
   }
  }
 },
 "nbformat": 4,
 "nbformat_minor": 2,
 "cells": [
  {
   "cell_type": "code",
   "execution_count": null,
   "metadata": {
    "tags": []
   },
   "outputs": [],
   "source": [
    "name = str(input(\"What's your name? \"))\n",
    "validnames = [\"John\", \"George\", \"Ringo\", \"Paul\"]\n",
    "if (name in validnames):\n",
    "    print(\"You're in the beetles, aren't you? {}.\".format(name))\n",
    "else:\n",
    "    print(\"Normal name person alert!\")"
   ]
  },
  {
   "cell_type": "code",
   "execution_count": null,
   "metadata": {
    "tags": []
   },
   "outputs": [],
   "source": [
    "goals = int(input(\"How many goals were scored? \"))\n",
    "if(goals == 0):\n",
    "    print(\"It's a nil all draw\")\n",
    "elif(goals >= 12):\n",
    "    print(\"Not the most interesting game\")\n",
    "elif(goals >= 35):\n",
    "    print(\"How'd they manage {} goals!?\".format(goals))\n",
    "else:\n",
    "    print(\"Did he other team even turn up?\")"
   ]
  },
  {
   "cell_type": "code",
   "execution_count": null,
   "metadata": {},
   "outputs": [],
   "source": [
    "events = [\"At age 6 you have to go to school\", \"At age 14 you can be left home alone\", \"At age 16 you can get your drivers license\", \"At age 18 you no longer get free dental care\", \"At age 20 you can work in a casino\", \"At age 25 you can adopt a child\"]\n",
    "eventAges = [6, 14, 16, 18, 20, 25]\n",
    "\n",
    "age = int(input(\"How old are you? \"))\n",
    "for items in range(len(eventAges)):\n",
    "    if age >= eventAges[items]:\n",
    "        print(events[items])"
   ]
  },
  {
   "cell_type": "code",
   "execution_count": null,
   "metadata": {},
   "outputs": [],
   "source": [
    "#Setup vars\n",
    "infantEmerTempC = 38\n",
    "allHFTemp = 39.5\n",
    "infantAge = 2\n",
    "\n",
    "#Request input fom user\n",
    "age = float(input(\"How old is the patient?\"))\n",
    "pTemp = float(input(\"What is the patient’s temperature?\"))\n",
    "\n",
    "#Result\n",
    "print(\"Patient aged {} years, with a temperature of {} degrees celsius\".format(age,pTemp))\n",
    "if age <= infantAge and pTemp >= infantEmerTempC:\n",
    "    print(\"Call a doctor.\")\n",
    "elif pTemp >= allHFTemp:\n",
    "    print(\"You got a high fever mate.\")\n",
    "else:\n",
    "    print(\"You're all good.\")"
   ]
  },
  {
   "cell_type": "code",
   "execution_count": null,
   "metadata": {},
   "outputs": [],
   "source": [
    "#Requirements for blood donation\n",
    "requiredAge = 16\n",
    "requiredWeight = 50\n",
    "\n",
    "print(\"Hello, I will check if you can donate blood. Just insert your details below and I will give you the result.\")\n",
    "#Get input\n",
    "age = int(input(\"Age: \"))\n",
    "weightKG = int(input(\"Weight in kgs: \"))\n",
    "\n",
    "#Give result\n",
    "if age >= requiredAge and weightKG >= requiredWeight:\n",
    "    print(\"You're eligible to donate blood, go do it.\")\n",
    "else:\n",
    "    print(\"Thanks for the offer, but you are ineligible to donate blood.\")"
   ]
  },
  {
   "cell_type": "code",
   "execution_count": null,
   "metadata": {},
   "outputs": [],
   "source": [
    "#Get input\n",
    "homeScore = int(input(\"What is the home team's score? \"))\n",
    "visitingScore = int(input(\"What is the visiting team's score? \"))\n",
    "\n",
    "#Result\n",
    "if homeScore > visitingScore:\n",
    "    print(\"Home team won!\")\n",
    "elif homeScore < visitingScore:\n",
    "    print(\"Visiting team won!\")\n",
    "else:\n",
    "    print(\"It's a draw.\")"
   ]
  },
  {
   "cell_type": "code",
   "execution_count": null,
   "metadata": {},
   "outputs": [],
   "source": []
  }
 ]
}