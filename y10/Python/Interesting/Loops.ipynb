{
 "metadata": {
  "language_info": {
   "codemirror_mode": {
    "name": "ipython",
    "version": 3
   },
   "file_extension": ".py",
   "mimetype": "text/x-python",
   "name": "python",
   "nbconvert_exporter": "python",
   "pygments_lexer": "ipython3",
   "version": "3.9.1-final"
  },
  "orig_nbformat": 2,
  "kernelspec": {
   "name": "python3",
   "display_name": "Python 3.9.1 64-bit",
   "metadata": {
    "interpreter": {
     "hash": "63fd5069d213b44bf678585dea6b12cceca9941eaf7f819626cde1f2670de90d"
    }
   }
  }
 },
 "nbformat": 4,
 "nbformat_minor": 2,
 "cells": [
  {
   "cell_type": "code",
   "execution_count": null,
   "metadata": {},
   "outputs": [],
   "source": [
    "answer = 4\n",
    "userAnswer = int(input(\"Choose a number between 1 and 10 \"))\n",
    "while userAnswer != answer:\n",
    "    print(\"Wrong.\")\n",
    "    userAnswer = int(input(\"Choose a number between 1 and 10 \"))\n",
    "print(\"Well done it was\", answer)"
   ]
  },
  {
   "cell_type": "code",
   "execution_count": null,
   "metadata": {},
   "outputs": [],
   "source": [
    "correctAnswer = \"Iron Man\"\n",
    "userAnswer = \"\"\n",
    "while userAnswer != correctAnswer:\n",
    "    userAnswer = input(\"Who is Tony Stark better known as? \")\n",
    "print(\"Well done\")"
   ]
  },
  {
   "cell_type": "code",
   "execution_count": null,
   "metadata": {},
   "outputs": [],
   "source": [
    "bestFBTeam = \"The local sports team\"\n",
    "userAnswer = input(\"What is the best football team? \")\n",
    "while userAnswer != bestFBTeam:\n",
    "    print(\"Nice opinion. Try again.\")\n",
    "    userAnswer = input(\"What is the best football team? \")\n",
    "print(\"Go Sports Team!\")"
   ]
  },
  {
   "cell_type": "code",
   "execution_count": null,
   "metadata": {
    "tags": [
     "outputPrepend"
    ]
   },
   "outputs": [],
   "source": [
    "while True:\n",
    "    print(\"Hello\")"
   ]
  }
 ]
}