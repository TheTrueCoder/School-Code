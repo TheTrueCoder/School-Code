{
 "metadata": {
  "language_info": {
   "codemirror_mode": {
    "name": "ipython",
    "version": 3
   },
   "file_extension": ".py",
   "mimetype": "text/x-python",
   "name": "python",
   "nbconvert_exporter": "python",
   "pygments_lexer": "ipython3",
   "version": "3.7.4-final"
  },
  "orig_nbformat": 2,
  "kernelspec": {
   "name": "python_defaultSpec_1600731467614",
   "display_name": "Python 3.7.4 64-bit"
  }
 },
 "nbformat": 4,
 "nbformat_minor": 2,
 "cells": [
  {
   "cell_type": "code",
   "execution_count": null,
   "metadata": {},
   "outputs": [],
   "source": [
    "uni = input(\"Name your nearest university? \")\n",
    "bikeCount = int(input(\"How many bicycles do you own? \"))\n",
    "airFare = float(input(\"Price of Dunedin / Auckland airfare? $\"))\n",
    "name = input(\"What is your name? \")\n",
    "birthYear = int(input(\"What year were you born? \"))\n",
    "halfAge = float(input(\"What is half your age? \"))"
   ]
  },
  {
   "cell_type": "code",
   "execution_count": null,
   "metadata": {
    "tags": []
   },
   "outputs": [],
   "source": [
    "firstName = input(\"What is your first name? \")\n",
    "lastName = input(\"What is your last name? \")\n",
    "\n",
    "print(firstName+\"'s last name is \"+lastName)"
   ]
  },
  {
   "cell_type": "code",
   "execution_count": null,
   "metadata": {
    "tags": []
   },
   "outputs": [],
   "source": [
    "name = input(\"What is your name? \")\n",
    "age = int(input(\"How old are you? \"))\n",
    "\n",
    "print(name+\", in ten years you will be\", str(age+10))"
   ]
  },
  {
   "cell_type": "code",
   "execution_count": null,
   "metadata": {
    "tags": []
   },
   "outputs": [],
   "source": [
    "houseNumber = int(input(\"Enter your house number: \"))\n",
    "streetName = input(\"Enter your street name\")\n",
    "townCity = input(\"Enter your town/city: \")\n",
    "postcode = int(input(\"Enter you postcode: \"))\n",
    "\n",
    "print(\"Address Details:\")\n",
    "print(\"Street:\", houseNumber, streetName)\n",
    "print(\"Town/City\", townCity)\n",
    "print(\"Postcode:\", postcode)"
   ]
  },
  {
   "cell_type": "code",
   "execution_count": null,
   "metadata": {
    "tags": []
   },
   "outputs": [],
   "source": [
    "number1 = float(input(\"Pick number: \"))\n",
    "number2 = float(input(\"Pick another number: \"))\n",
    "\n",
    "print(\"The first number is\", number1)\n",
    "print(\"The secound number is\", number2)\n",
    "\n",
    "print(\"The answer is\", (number1-number2))\n",
    "\n",
    "validAnswers = [\"Subtraction\", \"Sub\", \"-\", \"subtraction\"]\n",
    "\n",
    "if (input(\"How did we get this answer? \") in validAnswers):\n",
    "    print(\"Ur pretty smart!\")\n",
    "else:\n",
    "    print(\"Nope.\")\n"
   ]
  }
 ]
}